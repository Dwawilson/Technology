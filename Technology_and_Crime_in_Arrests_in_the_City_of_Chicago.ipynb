{
  "nbformat": 4,
  "nbformat_minor": 0,
  "metadata": {
    "colab": {
      "provenance": []
    },
    "kernelspec": {
      "name": "python3",
      "display_name": "Python 3"
    },
    "language_info": {
      "name": "python"
    }
  },
  "cells": [
    {
      "cell_type": "markdown",
      "source": [
        "# Techonogly and Crime in Arrests in the City of Chicago"
      ],
      "metadata": {
        "id": "NDzjSzSPKa14"
      }
    },
    {
      "cell_type": "markdown",
      "source": [
        "## Installing libraries, dependencies, and data"
      ],
      "metadata": {
        "id": "e90MjPQ-M2VR"
      }
    },
    {
      "cell_type": "code",
      "execution_count": null,
      "metadata": {
        "id": "402XOQKsT3eP"
      },
      "outputs": [],
      "source": [
        "# Install the required libraries\n",
        "!pip install prophet"
      ]
    },
    {
      "cell_type": "code",
      "source": [
        "# Import the required libraries and dependencies\n",
        "import pandas as pd\n",
        "import datetime as dt\n",
        "from prophet import Prophet\n",
        "\n",
        "%matplotlib inline"
      ],
      "metadata": {
        "id": "JtNFBRm5VZZ_"
      },
      "execution_count": null,
      "outputs": []
    },
    {
      "cell_type": "code",
      "source": [
        "# Upload the Arrests in Chicago_2014_to_2023.csv file\n",
        "from google.colab import files\n",
        "uploaded = files.upload()"
      ],
      "metadata": {
        "id": "amFGWj90VcMC"
      },
      "execution_count": null,
      "outputs": []
    },
    {
      "cell_type": "code",
      "source": [
        "# Read csv file as DataFrame, with the first column as row index\n",
        "df = pd.read_csv(\"chicago_arrests.csv\")\n",
        "# Drop columns that won't be used\n",
        "\n",
        "\n",
        "# Preview the dataset\n",
        "df.head()"
      ],
      "metadata": {
        "id": "6572ggmoVnIh"
      },
      "execution_count": null,
      "outputs": []
    },
    {
      "cell_type": "code",
      "source": [
        "from matplotlib import pyplot as plt"
      ],
      "metadata": {
        "id": "3pqK9L4ic47W"
      },
      "execution_count": null,
      "outputs": []
    },
    {
      "cell_type": "markdown",
      "source": [
        "## Section 1:"
      ],
      "metadata": {
        "id": "clMXm_8aNBoB"
      }
    },
    {
      "cell_type": "code",
      "source": [
        "# Visually inspect the Crime data"
      ],
      "metadata": {
        "id": "NUtEDjAbjOzT"
      },
      "execution_count": null,
      "outputs": []
    },
    {
      "cell_type": "code",
      "source": [
        "# Label the columns year and gender so that the syntax is recognized by Prophet"
      ],
      "metadata": {
        "id": "jWtQAXz-jWi3"
      },
      "execution_count": null,
      "outputs": []
    },
    {
      "cell_type": "code",
      "source": [
        "# View dataframe shape, and the first and last five rows of the Chicago_2014_to_2023.csv DataFrame"
      ],
      "metadata": {
        "id": "ker1Sb3Bjev4"
      },
      "execution_count": null,
      "outputs": []
    },
    {
      "cell_type": "code",
      "source": [
        "# Sort the DataFrame by `ds` in ascending order\n",
        "\n",
        "\n",
        "# Display sample data from head and tail"
      ],
      "metadata": {
        "id": "cFdYtGsfkIv4"
      },
      "execution_count": null,
      "outputs": []
    },
    {
      "cell_type": "code",
      "source": [
        "# Plot the data\n"
      ],
      "metadata": {
        "id": "UREzPZU8kLon"
      },
      "execution_count": null,
      "outputs": []
    },
    {
      "cell_type": "code",
      "source": [
        "# Call the Prophet function, store as an object\n"
      ],
      "metadata": {
        "id": "flcMg6vNkNyH"
      },
      "execution_count": null,
      "outputs": []
    },
    {
      "cell_type": "code",
      "source": [
        "# Fit the Prophet model.\n"
      ],
      "metadata": {
        "id": "W1sm5QfFkR23"
      },
      "execution_count": null,
      "outputs": []
    },
    {
      "cell_type": "code",
      "source": [
        "# Create a future dataframe to hold predictions\n",
        "# Make the prediction go out as far as 87600 hours (approx 10 years)\n",
        "\n",
        "# View the last five rows of the predictions\n"
      ],
      "metadata": {
        "id": "KStfDV_4kTwg"
      },
      "execution_count": null,
      "outputs": []
    },
    {
      "cell_type": "code",
      "source": [
        "# Make the predictions for the trend data using the future_trends DataFrame\n",
        "\n",
        "\n",
        "# Display the first five rows of the forecast DataFrame"
      ],
      "metadata": {
        "id": "Q_QVfcjXklCI"
      },
      "execution_count": null,
      "outputs": []
    },
    {
      "cell_type": "code",
      "source": [
        "# Plot the Prophet predictions for the trends data"
      ],
      "metadata": {
        "id": "5qfngcPrkowo"
      },
      "execution_count": null,
      "outputs": []
    },
    {
      "cell_type": "code",
      "source": [
        "# Use the plot_components function to visualize the results of different ethnics"
      ],
      "metadata": {
        "id": "-p7CYKCNk5pY"
      },
      "execution_count": null,
      "outputs": []
    },
    {
      "cell_type": "code",
      "source": [
        "# At this point, it's useful to set the `datetime` index of the Chicago_2014_to_2023.csv data.\n"
      ],
      "metadata": {
        "id": "CFgwqTValYGH"
      },
      "execution_count": null,
      "outputs": []
    },
    {
      "cell_type": "code",
      "source": [
        "# From the `Chicago_2014_to_2023` DataFrame, plot to visualize\n",
        "#  the yhat, yhat_lower, and yhat_upper columns over the last 4 years\n"
      ],
      "metadata": {
        "id": "lZYCrQu8ltGv"
      },
      "execution_count": null,
      "outputs": []
    },
    {
      "cell_type": "code",
      "source": [
        "#Please gather the database pertaining to race and income class.\n",
        "# Create a `chart on Chicago_2014_to_2023 ` Dataframe, which contains just income class and race\n",
        "# The DataFrame should include the columns yhat_upper, yhat_lower, and yhat\n",
        "\n",
        "\n",
        "# Replace the column names to something less technical sounding\n",
        "\n",
        "\n",
        "# Review the top five groups of the DataFrame\n"
      ],
      "metadata": {
        "id": "ZLuFl8Vll6oA"
      },
      "execution_count": null,
      "outputs": []
    },
    {
      "cell_type": "code",
      "source": [
        "# Display the average crimes form gender, race and income status?"
      ],
      "metadata": {
        "id": "RQqghnxxmsSH"
      },
      "execution_count": null,
      "outputs": []
    },
    {
      "cell_type": "markdown",
      "source": [
        "## Section 2:"
      ],
      "metadata": {
        "id": "sFObAgeLOD_B"
      }
    },
    {
      "cell_type": "code",
      "source": [
        "# ADD CODE HERE"
      ],
      "metadata": {
        "id": "mbkSUE-tOMPK"
      },
      "execution_count": null,
      "outputs": []
    },
    {
      "cell_type": "markdown",
      "source": [
        "## Section 3:"
      ],
      "metadata": {
        "id": "3mbxYMrYORuZ"
      }
    },
    {
      "cell_type": "code",
      "source": [
        "# ADD CODE HERE"
      ],
      "metadata": {
        "id": "jNfwdJXHOZGg"
      },
      "execution_count": null,
      "outputs": []
    },
    {
      "cell_type": "markdown",
      "source": [
        "## Section 4:"
      ],
      "metadata": {
        "id": "3pGUfmTXOdOR"
      }
    },
    {
      "cell_type": "code",
      "source": [
        "# ADD CODE HERE"
      ],
      "metadata": {
        "id": "8DLLTxeLOjA6"
      },
      "execution_count": null,
      "outputs": []
    }
  ]
}
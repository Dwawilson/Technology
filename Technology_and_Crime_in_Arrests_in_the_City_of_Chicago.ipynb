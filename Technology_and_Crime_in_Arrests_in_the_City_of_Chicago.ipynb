{
  "cells": [
    {
      "cell_type": "markdown",
      "metadata": {
        "id": "NDzjSzSPKa14"
      },
      "source": [
        "# Techonogly and Crime in Arrests in the City of Chicago"
      ]
    },
    {
      "cell_type": "markdown",
      "metadata": {
        "id": "e90MjPQ-M2VR"
      },
      "source": [
        "## Installing libraries, dependencies, and data"
      ]
    },
    {
      "cell_type": "code",
      "execution_count": 92,
      "metadata": {
        "id": "402XOQKsT3eP"
      },
      "outputs": [],
      "source": [
        "# Install the required libraries\n",
        "# !pip install prophet"
      ]
    },
    {
      "cell_type": "code",
      "execution_count": 93,
      "metadata": {
        "id": "JtNFBRm5VZZ_"
      },
      "outputs": [],
      "source": [
        "# Import the required libraries and dependencies\n",
        "import pandas as pd\n",
        "import datetime as dt\n",
        "import numpy as np\n",
        "from matplotlib import pyplot as plt\n",
        "# from prophet import Prophet\n",
        "\n",
        "%matplotlib inline"
      ]
    },
    {
      "cell_type": "code",
      "execution_count": 94,
      "metadata": {
        "id": "amFGWj90VcMC"
      },
      "outputs": [],
      "source": [
        "# Upload the Arrests in Chicago_2014_to_2023.csv file\n",
        "# from google.colab import files\n",
        "# uploaded = files.upload()"
      ]
    },
    {
      "cell_type": "code",
      "execution_count": 95,
      "metadata": {
        "id": "6572ggmoVnIh"
      },
      "outputs": [
        {
          "data": {
            "text/html": [
              "<div>\n",
              "<style scoped>\n",
              "    .dataframe tbody tr th:only-of-type {\n",
              "        vertical-align: middle;\n",
              "    }\n",
              "\n",
              "    .dataframe tbody tr th {\n",
              "        vertical-align: top;\n",
              "    }\n",
              "\n",
              "    .dataframe thead th {\n",
              "        text-align: right;\n",
              "    }\n",
              "</style>\n",
              "<table border=\"1\" class=\"dataframe\">\n",
              "  <thead>\n",
              "    <tr style=\"text-align: right;\">\n",
              "      <th></th>\n",
              "      <th>CB_NO</th>\n",
              "      <th>CASE NUMBER</th>\n",
              "      <th>ARREST DATE</th>\n",
              "      <th>RACE</th>\n",
              "      <th>CHARGE 1 STATUTE</th>\n",
              "      <th>CHARGE 1 DESCRIPTION</th>\n",
              "      <th>CHARGE 1 TYPE</th>\n",
              "      <th>CHARGE 1 CLASS</th>\n",
              "      <th>CHARGE 2 STATUTE</th>\n",
              "      <th>CHARGE 2 DESCRIPTION</th>\n",
              "      <th>...</th>\n",
              "      <th>CHARGE 3 TYPE</th>\n",
              "      <th>CHARGE 3 CLASS</th>\n",
              "      <th>CHARGE 4 STATUTE</th>\n",
              "      <th>CHARGE 4 DESCRIPTION</th>\n",
              "      <th>CHARGE 4 TYPE</th>\n",
              "      <th>CHARGE 4 CLASS</th>\n",
              "      <th>CHARGES STATUTE</th>\n",
              "      <th>CHARGES DESCRIPTION</th>\n",
              "      <th>CHARGES TYPE</th>\n",
              "      <th>CHARGES CLASS</th>\n",
              "    </tr>\n",
              "  </thead>\n",
              "  <tbody>\n",
              "    <tr>\n",
              "      <th>585293</th>\n",
              "      <td>30209374</td>\n",
              "      <td>JG117498</td>\n",
              "      <td>01/15/2023 07:00:00 PM</td>\n",
              "      <td>WHITE HISPANIC</td>\n",
              "      <td>625 ILCS 5.0/11-501-A</td>\n",
              "      <td>IVC - AGG DUI/NO VALID DL</td>\n",
              "      <td>F</td>\n",
              "      <td>4</td>\n",
              "      <td>625 ILCS 5.0/11-402-A</td>\n",
              "      <td>LEAVING THE SCENE</td>\n",
              "      <td>...</td>\n",
              "      <td>M</td>\n",
              "      <td>A</td>\n",
              "      <td>625 ILCS 5.0/6-101</td>\n",
              "      <td>DRIVING/NEVER ISSUED LICENSE</td>\n",
              "      <td>M</td>\n",
              "      <td>B</td>\n",
              "      <td>625 ILCS 5.0/11-501-A | 625 ILCS 5.0/11-402-A ...</td>\n",
              "      <td>IVC - AGG DUI/NO VALID DL | LEAVING THE SCENE ...</td>\n",
              "      <td>F | M | M | M</td>\n",
              "      <td>4 | A | A | B</td>\n",
              "    </tr>\n",
              "    <tr>\n",
              "      <th>585328</th>\n",
              "      <td>30209447</td>\n",
              "      <td>JG117684</td>\n",
              "      <td>01/15/2023 11:49:00 PM</td>\n",
              "      <td>BLACK</td>\n",
              "      <td>720 ILCS 570.0/402-C</td>\n",
              "      <td>PCS - POSSESSION - POSS AMT CON SUB EXCEPT (A)(D)</td>\n",
              "      <td>F</td>\n",
              "      <td>4</td>\n",
              "      <td>720 ILCS 570.0/402-C</td>\n",
              "      <td>PCS - POSSESSION - POSS AMT CON SUB EXCEPT (A)(D)</td>\n",
              "      <td>...</td>\n",
              "      <td>F</td>\n",
              "      <td>4</td>\n",
              "      <td>625 ILCS 5.0/11-204-A</td>\n",
              "      <td>FLEEING/ATTEMPT ELUDE OFFICER</td>\n",
              "      <td>M</td>\n",
              "      <td>A</td>\n",
              "      <td>720 ILCS 570.0/402-C | 720 ILCS 570.0/402-C | ...</td>\n",
              "      <td>PCS - POSSESSION - POSS AMT CON SUB EXCEPT (A)...</td>\n",
              "      <td>F | F | F | M</td>\n",
              "      <td>4 | 4 | 4 | A</td>\n",
              "    </tr>\n",
              "    <tr>\n",
              "      <th>585344</th>\n",
              "      <td>30209401</td>\n",
              "      <td>JG117608</td>\n",
              "      <td>01/15/2023 09:31:00 PM</td>\n",
              "      <td>BLACK</td>\n",
              "      <td>720 ILCS 5.0/19-1-A</td>\n",
              "      <td>BURGLARY (ATTEMPT)</td>\n",
              "      <td>F</td>\n",
              "      <td>2</td>\n",
              "      <td>720 ILCS 5.0/19-1-A</td>\n",
              "      <td>BURGLARY (ATTEMPT)</td>\n",
              "      <td>...</td>\n",
              "      <td>M</td>\n",
              "      <td>A</td>\n",
              "      <td>720 ILCS 5.0/21-1-A-1</td>\n",
              "      <td>CRIM DAMAGE TO PROPERTY &lt;$500</td>\n",
              "      <td>M</td>\n",
              "      <td>A</td>\n",
              "      <td>720 ILCS 5.0/19-1-A | 720 ILCS 5.0/19-1-A | 72...</td>\n",
              "      <td>BURGLARY (ATTEMPT) | BURGLARY (ATTEMPT) | CRIM...</td>\n",
              "      <td>F | F | M | M</td>\n",
              "      <td>2 | 2 | A | A</td>\n",
              "    </tr>\n",
              "    <tr>\n",
              "      <th>585357</th>\n",
              "      <td>30209293</td>\n",
              "      <td>JG117060</td>\n",
              "      <td>01/15/2023 11:54:00 AM</td>\n",
              "      <td>WHITE HISPANIC</td>\n",
              "      <td>720 ILCS 5.0/9-1-A-1</td>\n",
              "      <td>MURDER - FIRST DEGREE (ATTEMPT)</td>\n",
              "      <td>F</td>\n",
              "      <td>M</td>\n",
              "      <td>720 ILCS 5.0/19-6-A-1</td>\n",
              "      <td>HOME INVASION/DANGEROUS WEAPON</td>\n",
              "      <td>...</td>\n",
              "      <td>F</td>\n",
              "      <td>3</td>\n",
              "      <td>720 ILCS 5.0/10-3.1-A</td>\n",
              "      <td>AGGRAVATED UNLAWFUL RESTRAINT</td>\n",
              "      <td>F</td>\n",
              "      <td>3</td>\n",
              "      <td>720 ILCS 5.0/9-1-A-1 | 720 ILCS 5.0/19-6-A-1 |...</td>\n",
              "      <td>MURDER - FIRST DEGREE (ATTEMPT) | HOME INVASIO...</td>\n",
              "      <td>F | F | F | F</td>\n",
              "      <td>M | X | 3 | 3</td>\n",
              "    </tr>\n",
              "    <tr>\n",
              "      <th>585414</th>\n",
              "      <td>30209368</td>\n",
              "      <td>JG117594</td>\n",
              "      <td>01/15/2023 07:41:00 PM</td>\n",
              "      <td>BLACK</td>\n",
              "      <td>720 ILCS 570.0/402-C</td>\n",
              "      <td>PCS - POSSESSION - POSS AMT CON SUB EXCEPT (A)(D)</td>\n",
              "      <td>F</td>\n",
              "      <td>4</td>\n",
              "      <td>625 ILCS 5.0/11-501-A-4</td>\n",
              "      <td>IVC - DRIVING UNDER INFLUENCE OF DRUG</td>\n",
              "      <td>...</td>\n",
              "      <td>M</td>\n",
              "      <td>A</td>\n",
              "      <td>625 ILCS 5.0/3-702-B</td>\n",
              "      <td>USE CANC/REVOKE REGISTRATION</td>\n",
              "      <td>M</td>\n",
              "      <td>A</td>\n",
              "      <td>720 ILCS 570.0/402-C | 625 ILCS 5.0/11-501-A-4...</td>\n",
              "      <td>PCS - POSSESSION - POSS AMT CON SUB EXCEPT (A)...</td>\n",
              "      <td>F | M | M | M</td>\n",
              "      <td>4 | A | A | A</td>\n",
              "    </tr>\n",
              "  </tbody>\n",
              "</table>\n",
              "<p>5 rows × 24 columns</p>\n",
              "</div>"
            ],
            "text/plain": [
              "           CB_NO CASE NUMBER             ARREST DATE            RACE  \\\n",
              "585293  30209374    JG117498  01/15/2023 07:00:00 PM  WHITE HISPANIC   \n",
              "585328  30209447    JG117684  01/15/2023 11:49:00 PM           BLACK   \n",
              "585344  30209401    JG117608  01/15/2023 09:31:00 PM           BLACK   \n",
              "585357  30209293    JG117060  01/15/2023 11:54:00 AM  WHITE HISPANIC   \n",
              "585414  30209368    JG117594  01/15/2023 07:41:00 PM           BLACK   \n",
              "\n",
              "             CHARGE 1 STATUTE  \\\n",
              "585293  625 ILCS 5.0/11-501-A   \n",
              "585328   720 ILCS 570.0/402-C   \n",
              "585344    720 ILCS 5.0/19-1-A   \n",
              "585357   720 ILCS 5.0/9-1-A-1   \n",
              "585414   720 ILCS 570.0/402-C   \n",
              "\n",
              "                                     CHARGE 1 DESCRIPTION CHARGE 1 TYPE  \\\n",
              "585293                          IVC - AGG DUI/NO VALID DL             F   \n",
              "585328  PCS - POSSESSION - POSS AMT CON SUB EXCEPT (A)(D)             F   \n",
              "585344                                 BURGLARY (ATTEMPT)             F   \n",
              "585357                    MURDER - FIRST DEGREE (ATTEMPT)             F   \n",
              "585414  PCS - POSSESSION - POSS AMT CON SUB EXCEPT (A)(D)             F   \n",
              "\n",
              "       CHARGE 1 CLASS         CHARGE 2 STATUTE  \\\n",
              "585293              4    625 ILCS 5.0/11-402-A   \n",
              "585328              4     720 ILCS 570.0/402-C   \n",
              "585344              2      720 ILCS 5.0/19-1-A   \n",
              "585357              M    720 ILCS 5.0/19-6-A-1   \n",
              "585414              4  625 ILCS 5.0/11-501-A-4   \n",
              "\n",
              "                                     CHARGE 2 DESCRIPTION  ... CHARGE 3 TYPE  \\\n",
              "585293                                  LEAVING THE SCENE  ...             M   \n",
              "585328  PCS - POSSESSION - POSS AMT CON SUB EXCEPT (A)(D)  ...             F   \n",
              "585344                                 BURGLARY (ATTEMPT)  ...             M   \n",
              "585357                     HOME INVASION/DANGEROUS WEAPON  ...             F   \n",
              "585414              IVC - DRIVING UNDER INFLUENCE OF DRUG  ...             M   \n",
              "\n",
              "       CHARGE 3 CLASS       CHARGE 4 STATUTE           CHARGE 4 DESCRIPTION  \\\n",
              "585293              A     625 ILCS 5.0/6-101   DRIVING/NEVER ISSUED LICENSE   \n",
              "585328              4  625 ILCS 5.0/11-204-A  FLEEING/ATTEMPT ELUDE OFFICER   \n",
              "585344              A  720 ILCS 5.0/21-1-A-1  CRIM DAMAGE TO PROPERTY <$500   \n",
              "585357              3  720 ILCS 5.0/10-3.1-A  AGGRAVATED UNLAWFUL RESTRAINT   \n",
              "585414              A   625 ILCS 5.0/3-702-B   USE CANC/REVOKE REGISTRATION   \n",
              "\n",
              "       CHARGE 4 TYPE CHARGE 4 CLASS  \\\n",
              "585293             M              B   \n",
              "585328             M              A   \n",
              "585344             M              A   \n",
              "585357             F              3   \n",
              "585414             M              A   \n",
              "\n",
              "                                          CHARGES STATUTE  \\\n",
              "585293  625 ILCS 5.0/11-501-A | 625 ILCS 5.0/11-402-A ...   \n",
              "585328  720 ILCS 570.0/402-C | 720 ILCS 570.0/402-C | ...   \n",
              "585344  720 ILCS 5.0/19-1-A | 720 ILCS 5.0/19-1-A | 72...   \n",
              "585357  720 ILCS 5.0/9-1-A-1 | 720 ILCS 5.0/19-6-A-1 |...   \n",
              "585414  720 ILCS 570.0/402-C | 625 ILCS 5.0/11-501-A-4...   \n",
              "\n",
              "                                      CHARGES DESCRIPTION   CHARGES TYPE  \\\n",
              "585293  IVC - AGG DUI/NO VALID DL | LEAVING THE SCENE ...  F | M | M | M   \n",
              "585328  PCS - POSSESSION - POSS AMT CON SUB EXCEPT (A)...  F | F | F | M   \n",
              "585344  BURGLARY (ATTEMPT) | BURGLARY (ATTEMPT) | CRIM...  F | F | M | M   \n",
              "585357  MURDER - FIRST DEGREE (ATTEMPT) | HOME INVASIO...  F | F | F | F   \n",
              "585414  PCS - POSSESSION - POSS AMT CON SUB EXCEPT (A)...  F | M | M | M   \n",
              "\n",
              "        CHARGES CLASS  \n",
              "585293  4 | A | A | B  \n",
              "585328  4 | 4 | 4 | A  \n",
              "585344  2 | 2 | A | A  \n",
              "585357  M | X | 3 | 3  \n",
              "585414  4 | A | A | A  \n",
              "\n",
              "[5 rows x 24 columns]"
            ]
          },
          "execution_count": 95,
          "metadata": {},
          "output_type": "execute_result"
        }
      ],
      "source": [
        "# Read csv file as DataFrame, with the first column as row index\n",
        "file = '../Technology/chicago_arrests.csv'\n",
        "df = pd.read_csv(file)\n",
        "# Drop columns that won't be used\n",
        "df = df.dropna()\n",
        "\n",
        "# Preview the dataset\n",
        "df.tail()"
      ]
    },
    {
      "cell_type": "code",
      "execution_count": null,
      "metadata": {
        "id": "3pqK9L4ic47W"
      },
      "outputs": [],
      "source": []
    },
    {
      "cell_type": "markdown",
      "metadata": {
        "id": "clMXm_8aNBoB"
      },
      "source": [
        "## Section 1:"
      ]
    },
    {
      "cell_type": "code",
      "execution_count": 96,
      "metadata": {
        "id": "NUtEDjAbjOzT"
      },
      "outputs": [],
      "source": [
        "# Visually inspect the Crime data"
      ]
    },
    {
      "cell_type": "code",
      "execution_count": 97,
      "metadata": {
        "id": "jWtQAXz-jWi3"
      },
      "outputs": [],
      "source": [
        "# Label the columns year and gender so that the syntax is recognized by Prophet"
      ]
    },
    {
      "cell_type": "code",
      "execution_count": 98,
      "metadata": {
        "id": "ker1Sb3Bjev4"
      },
      "outputs": [
        {
          "name": "stdout",
          "output_type": "stream",
          "text": [
            "(14664, 24)\n",
            "        CB_NO CASE NUMBER             ARREST DATE   RACE  \\\n",
            "144  18911178    HX296457  06/09/2014 02:40:00 PM  BLACK   \n",
            "450  18910241    HX294157  06/07/2014 06:40:00 PM  BLACK   \n",
            "548  18927662    HX330713  07/04/2014 07:11:00 AM  BLACK   \n",
            "589  18924184    HX116936  06/29/2014 12:10:00 AM  BLACK   \n",
            "604  18917592    HX309917  06/19/2014 10:28:00 AM  BLACK   \n",
            "\n",
            "          CHARGE 1 STATUTE                     CHARGE 1 DESCRIPTION  \\\n",
            "144   625 ILCS 5.0/6-303-A             DRIVING ON SUSPENDED LICENSE   \n",
            "450  720 ILCS 5.0/21-1-1-A  CRIM DAMAGE PROP-KNOWINGLY DAMAGE <$300   \n",
            "548    720 ILCS 5.0/18-5-A          ROBBERY -  AGGRAVATED (ATTEMPT)   \n",
            "589   720 ILCS 5.0/9-1-A-1                    MURDER - FIRST DEGREE   \n",
            "604     720 ILCS 550.0/5-D         CANNABIS - MFG/DEL - 30-500 GRMS   \n",
            "\n",
            "    CHARGE 1 TYPE CHARGE 1 CLASS        CHARGE 2 STATUTE  \\\n",
            "144             M              A  625 ILCS 5.0/4-104-A-4   \n",
            "450             M              A   720 ILCS 5.0/21-1-1-A   \n",
            "548             F              1     720 ILCS 5.0/18-3-A   \n",
            "589             F              M    720 ILCS 5.0/9-1-A-3   \n",
            "604             F              3     430 ILCS 65.0/2-A-1   \n",
            "\n",
            "                                  CHARGE 2 DESCRIPTION  ... CHARGE 3 TYPE  \\\n",
            "144  POSS TITLE/REGISTRATION NOT AUTHORIZED ON VEHICLE  ...             M   \n",
            "450            CRIM DAMAGE PROP-KNOWINGLY DAMAGE <$300  ...             M   \n",
            "548                      VEHICULAR HIJACKING (ATTEMPT)  ...             F   \n",
            "589                     MURDER - OTHER FORCIBLE FELONY  ...             F   \n",
            "604                        FIREARM W/O VALID FOID/ELIG  ...             M   \n",
            "\n",
            "    CHARGE 3 CLASS         CHARGE 4 STATUTE  \\\n",
            "144              A    625 ILCS 5.0/11-402-A   \n",
            "450              A      720 ILCS 5.0/12-5-A   \n",
            "548              2      720 ILCS 5.0/19-1-A   \n",
            "589              X    720 ILCS 5.0/18-2-A-2   \n",
            "604              A  720 ILCS 5.0/24-3.1-A-6   \n",
            "\n",
            "                                 CHARGE 4 DESCRIPTION CHARGE 4 TYPE  \\\n",
            "144                                 LEAVING THE SCENE             M   \n",
            "450                                  RECKLESS CONDUCT             M   \n",
            "548                                          BURGLARY             F   \n",
            "589                        ROBBERY - ARMED W/ FIREARM             F   \n",
            "604  UUW - UNLAWFUL POSSESS FIREARM/ EXPLOSIVE BULLET             M   \n",
            "\n",
            "    CHARGE 4 CLASS                                    CHARGES STATUTE  \\\n",
            "144              A  625 ILCS 5.0/6-303-A | 625 ILCS 5.0/4-104-A-4 ...   \n",
            "450              A  720 ILCS 5.0/21-1-1-A | 720 ILCS 5.0/21-1-1-A ...   \n",
            "548              2  720 ILCS 5.0/18-5-A | 720 ILCS 5.0/18-3-A | 62...   \n",
            "589              X  720 ILCS 5.0/9-1-A-1 | 720 ILCS 5.0/9-1-A-3 | ...   \n",
            "604              A  720 ILCS 550.0/5-D | 430 ILCS 65.0/2-A-1 | 720...   \n",
            "\n",
            "                                   CHARGES DESCRIPTION   CHARGES TYPE  \\\n",
            "144  DRIVING ON SUSPENDED LICENSE | POSS TITLE/REGI...  M | M | M | M   \n",
            "450  CRIM DAMAGE PROP-KNOWINGLY DAMAGE <$300 | CRIM...  M | M | M | M   \n",
            "548  ROBBERY -  AGGRAVATED (ATTEMPT) | VEHICULAR HI...  F | F | F | F   \n",
            "589  MURDER - FIRST DEGREE | MURDER - OTHER FORCIBL...  F | F | F | F   \n",
            "604  CANNABIS - MFG/DEL - 30-500 GRMS | FIREARM W/O...  F | M | M | M   \n",
            "\n",
            "     CHARGES CLASS  \n",
            "144  A | A | A | A  \n",
            "450  A | A | A | A  \n",
            "548  1 | 1 | 2 | 2  \n",
            "589  M | M | X | X  \n",
            "604  3 | A | A | A  \n",
            "\n",
            "[5 rows x 24 columns]\n",
            "           CB_NO CASE NUMBER             ARREST DATE            RACE  \\\n",
            "585293  30209374    JG117498  01/15/2023 07:00:00 PM  WHITE HISPANIC   \n",
            "585328  30209447    JG117684  01/15/2023 11:49:00 PM           BLACK   \n",
            "585344  30209401    JG117608  01/15/2023 09:31:00 PM           BLACK   \n",
            "585357  30209293    JG117060  01/15/2023 11:54:00 AM  WHITE HISPANIC   \n",
            "585414  30209368    JG117594  01/15/2023 07:41:00 PM           BLACK   \n",
            "\n",
            "             CHARGE 1 STATUTE  \\\n",
            "585293  625 ILCS 5.0/11-501-A   \n",
            "585328   720 ILCS 570.0/402-C   \n",
            "585344    720 ILCS 5.0/19-1-A   \n",
            "585357   720 ILCS 5.0/9-1-A-1   \n",
            "585414   720 ILCS 570.0/402-C   \n",
            "\n",
            "                                     CHARGE 1 DESCRIPTION CHARGE 1 TYPE  \\\n",
            "585293                          IVC - AGG DUI/NO VALID DL             F   \n",
            "585328  PCS - POSSESSION - POSS AMT CON SUB EXCEPT (A)(D)             F   \n",
            "585344                                 BURGLARY (ATTEMPT)             F   \n",
            "585357                    MURDER - FIRST DEGREE (ATTEMPT)             F   \n",
            "585414  PCS - POSSESSION - POSS AMT CON SUB EXCEPT (A)(D)             F   \n",
            "\n",
            "       CHARGE 1 CLASS         CHARGE 2 STATUTE  \\\n",
            "585293              4    625 ILCS 5.0/11-402-A   \n",
            "585328              4     720 ILCS 570.0/402-C   \n",
            "585344              2      720 ILCS 5.0/19-1-A   \n",
            "585357              M    720 ILCS 5.0/19-6-A-1   \n",
            "585414              4  625 ILCS 5.0/11-501-A-4   \n",
            "\n",
            "                                     CHARGE 2 DESCRIPTION  ... CHARGE 3 TYPE  \\\n",
            "585293                                  LEAVING THE SCENE  ...             M   \n",
            "585328  PCS - POSSESSION - POSS AMT CON SUB EXCEPT (A)(D)  ...             F   \n",
            "585344                                 BURGLARY (ATTEMPT)  ...             M   \n",
            "585357                     HOME INVASION/DANGEROUS WEAPON  ...             F   \n",
            "585414              IVC - DRIVING UNDER INFLUENCE OF DRUG  ...             M   \n",
            "\n",
            "       CHARGE 3 CLASS       CHARGE 4 STATUTE           CHARGE 4 DESCRIPTION  \\\n",
            "585293              A     625 ILCS 5.0/6-101   DRIVING/NEVER ISSUED LICENSE   \n",
            "585328              4  625 ILCS 5.0/11-204-A  FLEEING/ATTEMPT ELUDE OFFICER   \n",
            "585344              A  720 ILCS 5.0/21-1-A-1  CRIM DAMAGE TO PROPERTY <$500   \n",
            "585357              3  720 ILCS 5.0/10-3.1-A  AGGRAVATED UNLAWFUL RESTRAINT   \n",
            "585414              A   625 ILCS 5.0/3-702-B   USE CANC/REVOKE REGISTRATION   \n",
            "\n",
            "       CHARGE 4 TYPE CHARGE 4 CLASS  \\\n",
            "585293             M              B   \n",
            "585328             M              A   \n",
            "585344             M              A   \n",
            "585357             F              3   \n",
            "585414             M              A   \n",
            "\n",
            "                                          CHARGES STATUTE  \\\n",
            "585293  625 ILCS 5.0/11-501-A | 625 ILCS 5.0/11-402-A ...   \n",
            "585328  720 ILCS 570.0/402-C | 720 ILCS 570.0/402-C | ...   \n",
            "585344  720 ILCS 5.0/19-1-A | 720 ILCS 5.0/19-1-A | 72...   \n",
            "585357  720 ILCS 5.0/9-1-A-1 | 720 ILCS 5.0/19-6-A-1 |...   \n",
            "585414  720 ILCS 570.0/402-C | 625 ILCS 5.0/11-501-A-4...   \n",
            "\n",
            "                                      CHARGES DESCRIPTION   CHARGES TYPE  \\\n",
            "585293  IVC - AGG DUI/NO VALID DL | LEAVING THE SCENE ...  F | M | M | M   \n",
            "585328  PCS - POSSESSION - POSS AMT CON SUB EXCEPT (A)...  F | F | F | M   \n",
            "585344  BURGLARY (ATTEMPT) | BURGLARY (ATTEMPT) | CRIM...  F | F | M | M   \n",
            "585357  MURDER - FIRST DEGREE (ATTEMPT) | HOME INVASIO...  F | F | F | F   \n",
            "585414  PCS - POSSESSION - POSS AMT CON SUB EXCEPT (A)...  F | M | M | M   \n",
            "\n",
            "        CHARGES CLASS  \n",
            "585293  4 | A | A | B  \n",
            "585328  4 | 4 | 4 | A  \n",
            "585344  2 | 2 | A | A  \n",
            "585357  M | X | 3 | 3  \n",
            "585414  4 | A | A | A  \n",
            "\n",
            "[5 rows x 24 columns]\n"
          ]
        }
      ],
      "source": [
        "# View dataframe shape, and the first and last five rows of the Chicago_2014_to_2023.csv DataFrame\n",
        "print(df.shape)\n",
        "print(df.head())\n",
        "print(df.tail())"
      ]
    },
    {
      "cell_type": "code",
      "execution_count": 99,
      "metadata": {},
      "outputs": [
        {
          "data": {
            "text/html": [
              "<div>\n",
              "<style scoped>\n",
              "    .dataframe tbody tr th:only-of-type {\n",
              "        vertical-align: middle;\n",
              "    }\n",
              "\n",
              "    .dataframe tbody tr th {\n",
              "        vertical-align: top;\n",
              "    }\n",
              "\n",
              "    .dataframe thead th {\n",
              "        text-align: right;\n",
              "    }\n",
              "</style>\n",
              "<table border=\"1\" class=\"dataframe\">\n",
              "  <thead>\n",
              "    <tr style=\"text-align: right;\">\n",
              "      <th></th>\n",
              "      <th>ARREST DATE</th>\n",
              "      <th>RACE</th>\n",
              "      <th>CHARGES DESCRIPTION</th>\n",
              "    </tr>\n",
              "  </thead>\n",
              "  <tbody>\n",
              "    <tr>\n",
              "      <th>144</th>\n",
              "      <td>06/09/2014 02:40:00 PM</td>\n",
              "      <td>BLACK</td>\n",
              "      <td>DRIVING ON SUSPENDED LICENSE | POSS TITLE/REGI...</td>\n",
              "    </tr>\n",
              "    <tr>\n",
              "      <th>450</th>\n",
              "      <td>06/07/2014 06:40:00 PM</td>\n",
              "      <td>BLACK</td>\n",
              "      <td>CRIM DAMAGE PROP-KNOWINGLY DAMAGE &lt;$300 | CRIM...</td>\n",
              "    </tr>\n",
              "    <tr>\n",
              "      <th>548</th>\n",
              "      <td>07/04/2014 07:11:00 AM</td>\n",
              "      <td>BLACK</td>\n",
              "      <td>ROBBERY -  AGGRAVATED (ATTEMPT) | VEHICULAR HI...</td>\n",
              "    </tr>\n",
              "    <tr>\n",
              "      <th>589</th>\n",
              "      <td>06/29/2014 12:10:00 AM</td>\n",
              "      <td>BLACK</td>\n",
              "      <td>MURDER - FIRST DEGREE | MURDER - OTHER FORCIBL...</td>\n",
              "    </tr>\n",
              "    <tr>\n",
              "      <th>604</th>\n",
              "      <td>06/19/2014 10:28:00 AM</td>\n",
              "      <td>BLACK</td>\n",
              "      <td>CANNABIS - MFG/DEL - 30-500 GRMS | FIREARM W/O...</td>\n",
              "    </tr>\n",
              "  </tbody>\n",
              "</table>\n",
              "</div>"
            ],
            "text/plain": [
              "                ARREST DATE   RACE  \\\n",
              "144  06/09/2014 02:40:00 PM  BLACK   \n",
              "450  06/07/2014 06:40:00 PM  BLACK   \n",
              "548  07/04/2014 07:11:00 AM  BLACK   \n",
              "589  06/29/2014 12:10:00 AM  BLACK   \n",
              "604  06/19/2014 10:28:00 AM  BLACK   \n",
              "\n",
              "                                   CHARGES DESCRIPTION  \n",
              "144  DRIVING ON SUSPENDED LICENSE | POSS TITLE/REGI...  \n",
              "450  CRIM DAMAGE PROP-KNOWINGLY DAMAGE <$300 | CRIM...  \n",
              "548  ROBBERY -  AGGRAVATED (ATTEMPT) | VEHICULAR HI...  \n",
              "589  MURDER - FIRST DEGREE | MURDER - OTHER FORCIBL...  \n",
              "604  CANNABIS - MFG/DEL - 30-500 GRMS | FIREARM W/O...  "
            ]
          },
          "execution_count": 99,
          "metadata": {},
          "output_type": "execute_result"
        }
      ],
      "source": [
        "# Drop columns that won't be used\n",
        "columns_to_drop = [\"CB_NO\", \"CASE NUMBER\", \"CHARGE 1 STATUTE\", \"CHARGE 1 DESCRIPTION\", \"CHARGE 1 TYPE\", \"CHARGE 1 CLASS\", \n",
        "                   \"CHARGE 2 STATUTE\", \"CHARGE 2 TYPE\", \"CHARGE 2 CLASS\",\"CHARGE 2 DESCRIPTION\", \"CHARGE 3 STATUTE\", \"CHARGE 3 TYPE\", \"CHARGE 3 CLASS\",\"CHARGE 3 DESCRIPTION\", \"CHARGE 4 STATUTE\",\"CHARGE 4 DESCRIPTION\", \"CHARGE 4 TYPE\", \"CHARGE 4 CLASS\", \"CHARGES STATUTE\", \"CHARGES TYPE\",\t\"CHARGES CLASS\"]\n",
        "df = df.drop(columns_to_drop, axis=1)\n",
        "\n",
        "# Preview the dataset\n",
        "df.head()\n"
      ]
    },
    {
      "cell_type": "code",
      "execution_count": 100,
      "metadata": {
        "id": "cFdYtGsfkIv4"
      },
      "outputs": [
        {
          "ename": "ValueError",
          "evalue": "Length mismatch: Expected axis has 3 elements, new values have 2 elements",
          "output_type": "error",
          "traceback": [
            "\u001b[1;31m---------------------------------------------------------------------------\u001b[0m",
            "\u001b[1;31mValueError\u001b[0m                                Traceback (most recent call last)",
            "Cell \u001b[1;32mIn[100], line 2\u001b[0m\n\u001b[0;32m      1\u001b[0m \u001b[38;5;66;03m# Sort the DataFrame by `ds` in ascending order\u001b[39;00m\n\u001b[1;32m----> 2\u001b[0m df\u001b[38;5;241m.\u001b[39mcolumns \u001b[38;5;241m=\u001b[39m [\u001b[38;5;124m\"\u001b[39m\u001b[38;5;124mds\u001b[39m\u001b[38;5;124m\"\u001b[39m, \u001b[38;5;124m\"\u001b[39m\u001b[38;5;124my\u001b[39m\u001b[38;5;124m\"\u001b[39m]\n\u001b[0;32m      4\u001b[0m df_sorted \u001b[38;5;241m=\u001b[39m df\u001b[38;5;241m.\u001b[39msort_values(by\u001b[38;5;241m=\u001b[39m[\u001b[38;5;124m\"\u001b[39m\u001b[38;5;124mds\u001b[39m\u001b[38;5;124m\"\u001b[39m], ascending\u001b[38;5;241m=\u001b[39m\u001b[38;5;28;01mTrue\u001b[39;00m)\n\u001b[0;32m      7\u001b[0m \u001b[38;5;66;03m# Display sample data from head and tail\u001b[39;00m\n",
            "File \u001b[1;32mc:\\Users\\Kanish Mohan\\anaconda3\\envs\\dev\\lib\\site-packages\\pandas\\core\\generic.py:6218\u001b[0m, in \u001b[0;36mNDFrame.__setattr__\u001b[1;34m(self, name, value)\u001b[0m\n\u001b[0;32m   6216\u001b[0m \u001b[38;5;28;01mtry\u001b[39;00m:\n\u001b[0;32m   6217\u001b[0m     \u001b[38;5;28mobject\u001b[39m\u001b[38;5;241m.\u001b[39m\u001b[38;5;21m__getattribute__\u001b[39m(\u001b[38;5;28mself\u001b[39m, name)\n\u001b[1;32m-> 6218\u001b[0m     \u001b[38;5;28;01mreturn\u001b[39;00m \u001b[38;5;28;43mobject\u001b[39;49m\u001b[38;5;241;43m.\u001b[39;49m\u001b[38;5;21;43m__setattr__\u001b[39;49m\u001b[43m(\u001b[49m\u001b[38;5;28;43mself\u001b[39;49m\u001b[43m,\u001b[49m\u001b[43m \u001b[49m\u001b[43mname\u001b[49m\u001b[43m,\u001b[49m\u001b[43m \u001b[49m\u001b[43mvalue\u001b[49m\u001b[43m)\u001b[49m\n\u001b[0;32m   6219\u001b[0m \u001b[38;5;28;01mexcept\u001b[39;00m \u001b[38;5;167;01mAttributeError\u001b[39;00m:\n\u001b[0;32m   6220\u001b[0m     \u001b[38;5;28;01mpass\u001b[39;00m\n",
            "File \u001b[1;32mproperties.pyx:69\u001b[0m, in \u001b[0;36mpandas._libs.properties.AxisProperty.__set__\u001b[1;34m()\u001b[0m\n",
            "File \u001b[1;32mc:\\Users\\Kanish Mohan\\anaconda3\\envs\\dev\\lib\\site-packages\\pandas\\core\\generic.py:767\u001b[0m, in \u001b[0;36mNDFrame._set_axis\u001b[1;34m(self, axis, labels)\u001b[0m\n\u001b[0;32m    762\u001b[0m \u001b[38;5;250m\u001b[39m\u001b[38;5;124;03m\"\"\"\u001b[39;00m\n\u001b[0;32m    763\u001b[0m \u001b[38;5;124;03mThis is called from the cython code when we set the `index` attribute\u001b[39;00m\n\u001b[0;32m    764\u001b[0m \u001b[38;5;124;03mdirectly, e.g. `series.index = [1, 2, 3]`.\u001b[39;00m\n\u001b[0;32m    765\u001b[0m \u001b[38;5;124;03m\"\"\"\u001b[39;00m\n\u001b[0;32m    766\u001b[0m labels \u001b[38;5;241m=\u001b[39m ensure_index(labels)\n\u001b[1;32m--> 767\u001b[0m \u001b[38;5;28;43mself\u001b[39;49m\u001b[38;5;241;43m.\u001b[39;49m\u001b[43m_mgr\u001b[49m\u001b[38;5;241;43m.\u001b[39;49m\u001b[43mset_axis\u001b[49m\u001b[43m(\u001b[49m\u001b[43maxis\u001b[49m\u001b[43m,\u001b[49m\u001b[43m \u001b[49m\u001b[43mlabels\u001b[49m\u001b[43m)\u001b[49m\n\u001b[0;32m    768\u001b[0m \u001b[38;5;28mself\u001b[39m\u001b[38;5;241m.\u001b[39m_clear_item_cache()\n",
            "File \u001b[1;32mc:\\Users\\Kanish Mohan\\anaconda3\\envs\\dev\\lib\\site-packages\\pandas\\core\\internals\\managers.py:227\u001b[0m, in \u001b[0;36mBaseBlockManager.set_axis\u001b[1;34m(self, axis, new_labels)\u001b[0m\n\u001b[0;32m    225\u001b[0m \u001b[38;5;28;01mdef\u001b[39;00m \u001b[38;5;21mset_axis\u001b[39m(\u001b[38;5;28mself\u001b[39m, axis: AxisInt, new_labels: Index) \u001b[38;5;241m-\u001b[39m\u001b[38;5;241m>\u001b[39m \u001b[38;5;28;01mNone\u001b[39;00m:\n\u001b[0;32m    226\u001b[0m     \u001b[38;5;66;03m# Caller is responsible for ensuring we have an Index object.\u001b[39;00m\n\u001b[1;32m--> 227\u001b[0m     \u001b[38;5;28;43mself\u001b[39;49m\u001b[38;5;241;43m.\u001b[39;49m\u001b[43m_validate_set_axis\u001b[49m\u001b[43m(\u001b[49m\u001b[43maxis\u001b[49m\u001b[43m,\u001b[49m\u001b[43m \u001b[49m\u001b[43mnew_labels\u001b[49m\u001b[43m)\u001b[49m\n\u001b[0;32m    228\u001b[0m     \u001b[38;5;28mself\u001b[39m\u001b[38;5;241m.\u001b[39maxes[axis] \u001b[38;5;241m=\u001b[39m new_labels\n",
            "File \u001b[1;32mc:\\Users\\Kanish Mohan\\anaconda3\\envs\\dev\\lib\\site-packages\\pandas\\core\\internals\\base.py:85\u001b[0m, in \u001b[0;36mDataManager._validate_set_axis\u001b[1;34m(self, axis, new_labels)\u001b[0m\n\u001b[0;32m     82\u001b[0m     \u001b[38;5;28;01mpass\u001b[39;00m\n\u001b[0;32m     84\u001b[0m \u001b[38;5;28;01melif\u001b[39;00m new_len \u001b[38;5;241m!=\u001b[39m old_len:\n\u001b[1;32m---> 85\u001b[0m     \u001b[38;5;28;01mraise\u001b[39;00m \u001b[38;5;167;01mValueError\u001b[39;00m(\n\u001b[0;32m     86\u001b[0m         \u001b[38;5;124mf\u001b[39m\u001b[38;5;124m\"\u001b[39m\u001b[38;5;124mLength mismatch: Expected axis has \u001b[39m\u001b[38;5;132;01m{\u001b[39;00mold_len\u001b[38;5;132;01m}\u001b[39;00m\u001b[38;5;124m elements, new \u001b[39m\u001b[38;5;124m\"\u001b[39m\n\u001b[0;32m     87\u001b[0m         \u001b[38;5;124mf\u001b[39m\u001b[38;5;124m\"\u001b[39m\u001b[38;5;124mvalues have \u001b[39m\u001b[38;5;132;01m{\u001b[39;00mnew_len\u001b[38;5;132;01m}\u001b[39;00m\u001b[38;5;124m elements\u001b[39m\u001b[38;5;124m\"\u001b[39m\n\u001b[0;32m     88\u001b[0m     )\n",
            "\u001b[1;31mValueError\u001b[0m: Length mismatch: Expected axis has 3 elements, new values have 2 elements"
          ]
        }
      ],
      "source": [
        "# Sort the DataFrame by `ds` in ascending order\n",
        "df.columns = [\"ds\", \"y\"]\n",
        "\n",
        "df_sorted = df.sort_values(by=[\"ds\"], ascending=True)\n",
        "\n",
        "\n",
        "# Display sample data from head and tail\n",
        "df_sorted.head()\n",
        "df_sorted.tail()"
      ]
    },
    {
      "cell_type": "code",
      "execution_count": null,
      "metadata": {
        "id": "UREzPZU8kLon"
      },
      "outputs": [
        {
          "ename": "TypeError",
          "evalue": "no numeric data to plot",
          "output_type": "error",
          "traceback": [
            "\u001b[1;31m---------------------------------------------------------------------------\u001b[0m",
            "\u001b[1;31mTypeError\u001b[0m                                 Traceback (most recent call last)",
            "Cell \u001b[1;32mIn[91], line 2\u001b[0m\n\u001b[0;32m      1\u001b[0m \u001b[38;5;66;03m# Plot the data\u001b[39;00m\n\u001b[1;32m----> 2\u001b[0m \u001b[43mdf\u001b[49m\u001b[38;5;241;43m.\u001b[39;49m\u001b[43mplot\u001b[49m\u001b[43m(\u001b[49m\u001b[43m)\u001b[49m\n",
            "File \u001b[1;32mc:\\Users\\Kanish Mohan\\anaconda3\\envs\\dev\\lib\\site-packages\\pandas\\plotting\\_core.py:1031\u001b[0m, in \u001b[0;36mPlotAccessor.__call__\u001b[1;34m(self, *args, **kwargs)\u001b[0m\n\u001b[0;32m   1028\u001b[0m             label_name \u001b[38;5;241m=\u001b[39m label_kw \u001b[38;5;129;01mor\u001b[39;00m data\u001b[38;5;241m.\u001b[39mcolumns\n\u001b[0;32m   1029\u001b[0m             data\u001b[38;5;241m.\u001b[39mcolumns \u001b[38;5;241m=\u001b[39m label_name\n\u001b[1;32m-> 1031\u001b[0m \u001b[38;5;28;01mreturn\u001b[39;00m plot_backend\u001b[38;5;241m.\u001b[39mplot(data, kind\u001b[38;5;241m=\u001b[39mkind, \u001b[38;5;241m*\u001b[39m\u001b[38;5;241m*\u001b[39mkwargs)\n",
            "File \u001b[1;32mc:\\Users\\Kanish Mohan\\anaconda3\\envs\\dev\\lib\\site-packages\\pandas\\plotting\\_matplotlib\\__init__.py:71\u001b[0m, in \u001b[0;36mplot\u001b[1;34m(data, kind, **kwargs)\u001b[0m\n\u001b[0;32m     69\u001b[0m         kwargs[\u001b[38;5;124m\"\u001b[39m\u001b[38;5;124max\u001b[39m\u001b[38;5;124m\"\u001b[39m] \u001b[38;5;241m=\u001b[39m \u001b[38;5;28mgetattr\u001b[39m(ax, \u001b[38;5;124m\"\u001b[39m\u001b[38;5;124mleft_ax\u001b[39m\u001b[38;5;124m\"\u001b[39m, ax)\n\u001b[0;32m     70\u001b[0m plot_obj \u001b[38;5;241m=\u001b[39m PLOT_CLASSES[kind](data, \u001b[38;5;241m*\u001b[39m\u001b[38;5;241m*\u001b[39mkwargs)\n\u001b[1;32m---> 71\u001b[0m \u001b[43mplot_obj\u001b[49m\u001b[38;5;241;43m.\u001b[39;49m\u001b[43mgenerate\u001b[49m\u001b[43m(\u001b[49m\u001b[43m)\u001b[49m\n\u001b[0;32m     72\u001b[0m plot_obj\u001b[38;5;241m.\u001b[39mdraw()\n\u001b[0;32m     73\u001b[0m \u001b[38;5;28;01mreturn\u001b[39;00m plot_obj\u001b[38;5;241m.\u001b[39mresult\n",
            "File \u001b[1;32mc:\\Users\\Kanish Mohan\\anaconda3\\envs\\dev\\lib\\site-packages\\pandas\\plotting\\_matplotlib\\core.py:451\u001b[0m, in \u001b[0;36mMPLPlot.generate\u001b[1;34m(self)\u001b[0m\n\u001b[0;32m    449\u001b[0m \u001b[38;5;28;01mdef\u001b[39;00m \u001b[38;5;21mgenerate\u001b[39m(\u001b[38;5;28mself\u001b[39m) \u001b[38;5;241m-\u001b[39m\u001b[38;5;241m>\u001b[39m \u001b[38;5;28;01mNone\u001b[39;00m:\n\u001b[0;32m    450\u001b[0m     \u001b[38;5;28mself\u001b[39m\u001b[38;5;241m.\u001b[39m_args_adjust()\n\u001b[1;32m--> 451\u001b[0m     \u001b[38;5;28;43mself\u001b[39;49m\u001b[38;5;241;43m.\u001b[39;49m\u001b[43m_compute_plot_data\u001b[49m\u001b[43m(\u001b[49m\u001b[43m)\u001b[49m\n\u001b[0;32m    452\u001b[0m     \u001b[38;5;28mself\u001b[39m\u001b[38;5;241m.\u001b[39m_setup_subplots()\n\u001b[0;32m    453\u001b[0m     \u001b[38;5;28mself\u001b[39m\u001b[38;5;241m.\u001b[39m_make_plot()\n",
            "File \u001b[1;32mc:\\Users\\Kanish Mohan\\anaconda3\\envs\\dev\\lib\\site-packages\\pandas\\plotting\\_matplotlib\\core.py:636\u001b[0m, in \u001b[0;36mMPLPlot._compute_plot_data\u001b[1;34m(self)\u001b[0m\n\u001b[0;32m    634\u001b[0m \u001b[38;5;66;03m# no non-numeric frames or series allowed\u001b[39;00m\n\u001b[0;32m    635\u001b[0m \u001b[38;5;28;01mif\u001b[39;00m is_empty:\n\u001b[1;32m--> 636\u001b[0m     \u001b[38;5;28;01mraise\u001b[39;00m \u001b[38;5;167;01mTypeError\u001b[39;00m(\u001b[38;5;124m\"\u001b[39m\u001b[38;5;124mno numeric data to plot\u001b[39m\u001b[38;5;124m\"\u001b[39m)\n\u001b[0;32m    638\u001b[0m \u001b[38;5;28mself\u001b[39m\u001b[38;5;241m.\u001b[39mdata \u001b[38;5;241m=\u001b[39m numeric_data\u001b[38;5;241m.\u001b[39mapply(\u001b[38;5;28mself\u001b[39m\u001b[38;5;241m.\u001b[39m_convert_to_ndarray)\n",
            "\u001b[1;31mTypeError\u001b[0m: no numeric data to plot"
          ]
        }
      ],
      "source": [
        "# Plot the data\n",
        "df.plot()"
      ]
    },
    {
      "cell_type": "code",
      "execution_count": null,
      "metadata": {
        "id": "flcMg6vNkNyH"
      },
      "outputs": [],
      "source": [
        "# Call the Prophet function, store as an object\n"
      ]
    },
    {
      "cell_type": "code",
      "execution_count": null,
      "metadata": {
        "id": "W1sm5QfFkR23"
      },
      "outputs": [],
      "source": [
        "# Fit the Prophet model.\n"
      ]
    },
    {
      "cell_type": "code",
      "execution_count": null,
      "metadata": {
        "id": "KStfDV_4kTwg"
      },
      "outputs": [],
      "source": [
        "# Create a future dataframe to hold predictions\n",
        "# Make the prediction go out as far as 87600 hours (approx 10 years)\n",
        "\n",
        "# View the last five rows of the predictions\n"
      ]
    },
    {
      "cell_type": "code",
      "execution_count": null,
      "metadata": {
        "id": "Q_QVfcjXklCI"
      },
      "outputs": [],
      "source": [
        "# Make the predictions for the trend data using the future_trends DataFrame\n",
        "\n",
        "\n",
        "# Display the first five rows of the forecast DataFrame"
      ]
    },
    {
      "cell_type": "code",
      "execution_count": null,
      "metadata": {
        "id": "5qfngcPrkowo"
      },
      "outputs": [],
      "source": [
        "# Plot the Prophet predictions for the trends data"
      ]
    },
    {
      "cell_type": "code",
      "execution_count": null,
      "metadata": {
        "id": "-p7CYKCNk5pY"
      },
      "outputs": [],
      "source": [
        "# Use the plot_components function to visualize the results of different ethnics"
      ]
    },
    {
      "cell_type": "code",
      "execution_count": null,
      "metadata": {
        "id": "CFgwqTValYGH"
      },
      "outputs": [],
      "source": [
        "# At this point, it's useful to set the `datetime` index of the Chicago_2014_to_2023.csv data.\n"
      ]
    },
    {
      "cell_type": "code",
      "execution_count": null,
      "metadata": {
        "id": "lZYCrQu8ltGv"
      },
      "outputs": [],
      "source": [
        "# From the `Chicago_2014_to_2023` DataFrame, plot to visualize\n",
        "#  the yhat, yhat_lower, and yhat_upper columns over the last 4 years\n"
      ]
    },
    {
      "cell_type": "code",
      "execution_count": null,
      "metadata": {
        "id": "ZLuFl8Vll6oA"
      },
      "outputs": [],
      "source": [
        "#Please gather the database pertaining to race and income class.\n",
        "# Create a `chart on Chicago_2014_to_2023 ` Dataframe, which contains just income class and race\n",
        "# The DataFrame should include the columns yhat_upper, yhat_lower, and yhat\n",
        "\n",
        "\n",
        "# Replace the column names to something less technical sounding\n",
        "\n",
        "\n",
        "# Review the top five groups of the DataFrame\n"
      ]
    },
    {
      "cell_type": "code",
      "execution_count": null,
      "metadata": {
        "id": "RQqghnxxmsSH"
      },
      "outputs": [],
      "source": [
        "# Display the average crimes form gender, race and income status?"
      ]
    },
    {
      "cell_type": "markdown",
      "metadata": {
        "id": "sFObAgeLOD_B"
      },
      "source": [
        "## Section 2:"
      ]
    },
    {
      "cell_type": "code",
      "execution_count": null,
      "metadata": {
        "id": "mbkSUE-tOMPK"
      },
      "outputs": [],
      "source": [
        "# ADD CODE HERE"
      ]
    },
    {
      "cell_type": "markdown",
      "metadata": {
        "id": "3mbxYMrYORuZ"
      },
      "source": [
        "## Section 3:"
      ]
    },
    {
      "cell_type": "code",
      "execution_count": null,
      "metadata": {
        "id": "jNfwdJXHOZGg"
      },
      "outputs": [],
      "source": [
        "# ADD CODE HERE"
      ]
    },
    {
      "cell_type": "markdown",
      "metadata": {
        "id": "3pGUfmTXOdOR"
      },
      "source": [
        "## Section 4:"
      ]
    },
    {
      "cell_type": "code",
      "execution_count": null,
      "metadata": {
        "id": "8DLLTxeLOjA6"
      },
      "outputs": [],
      "source": [
        "# ADD CODE HERE"
      ]
    }
  ],
  "metadata": {
    "colab": {
      "provenance": []
    },
    "kernelspec": {
      "display_name": "Python 3",
      "name": "python3"
    },
    "language_info": {
      "codemirror_mode": {
        "name": "ipython",
        "version": 3
      },
      "file_extension": ".py",
      "mimetype": "text/x-python",
      "name": "python",
      "nbconvert_exporter": "python",
      "pygments_lexer": "ipython3",
      "version": "3.10.13"
    }
  },
  "nbformat": 4,
  "nbformat_minor": 0
}
